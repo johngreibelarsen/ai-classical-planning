{
 "cells": [
  {
   "cell_type": "markdown",
   "id": "occupied-billy",
   "metadata": {},
   "source": [
    "### Introduction\n",
    "Experiment with different search algorithms and heuristics for a agent that performs progression search to solve planning problems. Use the results to answer questions about designing planning systems"
   ]
  },
  {
   "cell_type": "markdown",
   "id": "legal-differential",
   "metadata": {},
   "source": [
    "### Analyze the search complexity as a function of domain size, search algorithm, and heuristic.\n",
    "\n",
    "- The chart or table includes data for all search & heuristic combinations for air cargo problems 1 and 2\n",
    "- The chart or table includes data at least one uninformed search, two heuristics with greedy best first search, and two heuristics with A* on air cargo problems 3 and 4\n",
    "- Report includes at least a one paragraph discussion of these results that analyzes the growth trends as the problem size increases"
   ]
  },
  {
   "cell_type": "code",
   "execution_count": null,
   "id": "indie-domestic",
   "metadata": {},
   "outputs": [],
   "source": [
    "import run_search as rs\n",
    "import _utils as utils\n",
    "from timeit import default_timer as timer\n",
    "\n",
    "\n",
    "def main(p_choices, s_choices):\n",
    "    problems = [rs.PROBLEMS[i-1] for i in map(int, p_choices)]\n",
    "    searches = [rs.SEARCHES[i-1] for i in map(int, s_choices)]\n",
    "\n",
    "    result = None\n",
    "    for pname, problem_fn in problems:\n",
    "        for sname, search_fn, heuristic in searches:\n",
    "            problem_instance = problem_fn()\n",
    "            heuristic_fn = None if not heuristic else getattr(problem_instance, heuristic)\n",
    "            result = run_search(problem_instance, search_fn, heuristic_fn)\n",
    "    return result\n",
    "\n",
    "def run_search(problem, search_function, parameter=None):\n",
    "    ip = utils.PrintableProblem(problem)\n",
    "    start = timer()\n",
    "    if parameter is not None:\n",
    "        node = search_function(ip, parameter)\n",
    "    else:\n",
    "        node = search_function(ip)\n",
    "    end = timer()\n",
    "    return (ip, len(node.solution()), (end - start))\n",
    "\n",
    "problem, plan_length, elapsed_time  = main([1], [1])\n",
    "print(\"########## Actions   Expansions   Goal Tests   New Nodes\")\n",
    "print(f\"Problem: {problem}\")\n",
    "print(f\"Plan length: {plan_length}\")\n",
    "print(f\"Elapsed time: {elapsed_time}\")\n"
   ]
  },
  {
   "cell_type": "code",
   "execution_count": 2,
   "id": "ethical-business",
   "metadata": {},
   "outputs": [],
   "source": [
    "import run_search as rs\n",
    "import _utils as utils\n",
    "from timeit import default_timer as timer\n",
    "\n",
    "from dataclasses import make_dataclass\n",
    "Experiment = make_dataclass(\"Experiment\", [(\"Problem_Name\", str), (\"Search_Algo\", str), (\"Heuristic\", str),\n",
    "                                           (\"Actions\", int), (\"Expansions\", int), (\"Goal_Tests\", int), (\"New_Nodes\", int),\n",
    "                                           (\"Plan_Length\", int), (\"Elapsed_Time\", float)])\n",
    "\n",
    "def main_modified(p_choices, s_choices):\n",
    "    problems = [rs.PROBLEMS[i-1] for i in map(int, p_choices)]\n",
    "    searches = [rs.SEARCHES[i-1] for i in map(int, s_choices)]\n",
    "\n",
    "    results = [] # list of experiments\n",
    "    for pname, problem_fn in problems:\n",
    "        for sname, search_fn, heuristic in searches:\n",
    "            problem_instance = problem_fn()\n",
    "            heuristic_fn = None if not heuristic else getattr(problem_instance, heuristic)\n",
    "            result = run_search_modified(problem_instance, search_fn, heuristic_fn)\n",
    "            results.append(Experiment(pname, sname, heuristic, len(result[0].actions_list), \n",
    "                                      result[0].succs, result[0].goal_tests, result[0].states, result[1], result[2]))\n",
    "    return results\n",
    "\n",
    "def run_search_modified(problem, search_function, parameter=None):\n",
    "    ip = utils.PrintableProblem(problem)\n",
    "    start = timer()\n",
    "    if parameter is not None:\n",
    "        node = search_function(ip, parameter)\n",
    "    else:\n",
    "        node = search_function(ip)\n",
    "    end = timer()\n",
    "    return (ip, len(node.solution()), (end - start))\n"
   ]
  },
  {
   "cell_type": "code",
   "execution_count": 3,
   "id": "mediterranean-glance",
   "metadata": {},
   "outputs": [
    {
     "name": "stdout",
     "output_type": "stream",
     "text": [
      "Experiment(Problem_Name='Air Cargo Problem 1', Search_Algo='breadth_first_search', Heuristic='', Actions=20, Expansions=43, Goal_Tests=56, New_Nodes=178, Plan_Length=6, Elapsed_Time=0.006796699999995326)\n",
      "---------------------------------------------------------\n",
      "Experiment(Problem_Name='Air Cargo Problem 1', Search_Algo='astar_search', Heuristic='h_pg_levelsum', Actions=20, Expansions=28, Goal_Tests=30, New_Nodes=122, Plan_Length=6, Elapsed_Time=1.1582436000000058)\n",
      "---------------------------------------------------------\n"
     ]
    }
   ],
   "source": [
    "search_results  = main_modified([1], [1, 9])\n",
    "for result in search_results:\n",
    "    print(result)\n",
    "    print(\"---------------------------------------------------------\")\n"
   ]
  }
 ],
 "metadata": {
  "kernelspec": {
   "display_name": "Python 3",
   "language": "python",
   "name": "python3"
  },
  "language_info": {
   "codemirror_mode": {
    "name": "ipython",
    "version": 3
   },
   "file_extension": ".py",
   "mimetype": "text/x-python",
   "name": "python",
   "nbconvert_exporter": "python",
   "pygments_lexer": "ipython3",
   "version": "3.8.8"
  }
 },
 "nbformat": 4,
 "nbformat_minor": 5
}
