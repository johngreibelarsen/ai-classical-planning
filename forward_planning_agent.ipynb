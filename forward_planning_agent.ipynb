{
 "cells": [
  {
   "cell_type": "markdown",
   "id": "original-anniversary",
   "metadata": {},
   "source": [
    "### Introduction\n",
    "Experiment with different search algorithms and heuristics for a agent that performs progression search to solve planning problems. Use the results to answer questions about designing planning systems"
   ]
  },
  {
   "cell_type": "markdown",
   "id": "liberal-atlanta",
   "metadata": {},
   "source": [
    "### Analyze the search complexity as a function of domain size, search algorithm, and heuristic.\n",
    "\n",
    "- The chart or table includes data for all search & heuristic combinations for air cargo problems 1 and 2\n",
    "- The chart or table includes data at least one uninformed search, two heuristics with greedy best first search, and two heuristics with A* on air cargo problems 3 and 4\n",
    "- Report includes at least a one paragraph discussion of these results that analyzes the growth trends as the problem size increases"
   ]
  },
  {
   "cell_type": "code",
   "execution_count": 1,
   "id": "funky-script",
   "metadata": {},
   "outputs": [
    {
     "name": "stdout",
     "output_type": "stream",
     "text": [
      "########## Actions   Expansions   Goal Tests   New Nodes\n",
      "Problem:     20          43          56         178    \n",
      "Plan length: 6\n",
      "Elapsed time: 0.008439100000000366\n"
     ]
    }
   ],
   "source": [
    "import run_search as rs\n",
    "import _utils as utils\n",
    "from timeit import default_timer as timer\n",
    "\n",
    "\n",
    "def main(p_choices, s_choices):\n",
    "    problems = [rs.PROBLEMS[i-1] for i in map(int, p_choices)]\n",
    "    searches = [rs.SEARCHES[i-1] for i in map(int, s_choices)]\n",
    "\n",
    "    result = None\n",
    "    for pname, problem_fn in problems:\n",
    "        for sname, search_fn, heuristic in searches:\n",
    "            problem_instance = problem_fn()\n",
    "            heuristic_fn = None if not heuristic else getattr(problem_instance, heuristic)\n",
    "            result = run_search(problem_instance, search_fn, heuristic_fn)\n",
    "    return result\n",
    "\n",
    "def run_search(problem, search_function, parameter=None):\n",
    "    ip = utils.PrintableProblem(problem)\n",
    "    start = timer()\n",
    "    if parameter is not None:\n",
    "        node = search_function(ip, parameter)\n",
    "    else:\n",
    "        node = search_function(ip)\n",
    "    end = timer()\n",
    "    return (ip, len(node.solution()), (end - start))\n",
    "\n",
    "problem, plan_length, elapsed_time  = main([1], [1])\n",
    "print(\"########## Actions   Expansions   Goal Tests   New Nodes\")\n",
    "print(f\"Problem: {problem}\")\n",
    "print(f\"Plan length: {plan_length}\")\n",
    "print(f\"Elapsed time: {elapsed_time}\")\n"
   ]
  }
 ],
 "metadata": {
  "kernelspec": {
   "display_name": "Python 3",
   "language": "python",
   "name": "python3"
  },
  "language_info": {
   "codemirror_mode": {
    "name": "ipython",
    "version": 3
   },
   "file_extension": ".py",
   "mimetype": "text/x-python",
   "name": "python",
   "nbconvert_exporter": "python",
   "pygments_lexer": "ipython3",
   "version": "3.8.8"
  }
 },
 "nbformat": 4,
 "nbformat_minor": 5
}
